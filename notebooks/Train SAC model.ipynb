{
 "cells": [
  {
   "cell_type": "markdown",
   "metadata": {},
   "source": [
    "#### Train SAC RL model\n",
    "\n",
    "The SAC (Soft Actor-Critic) algorithm is an off-policy reinforcement learning method designed for continuous action spaces. It combines the benefits of both policy-based and value-based methods and is known for its sample efficiency and stability.  \n",
    "\n",
    "The actor in SAC is responsible for selecting actions in the environment. It typically uses a neural network to learn a policy that maps observations to continuous actions.  \n",
    "SAC uses a stochastic policy, which means it outputs a probability distribution over the available actions, often modeled as a Gaussian distribution.  \n",
    "This stochasticity helps exploration during training.\n",
    "\n",
    "Critic: SAC also includes two critics, referred to as Q-networks. These networks estimate the state-action value function, providing two independent value estimates.  \n",
    "Having multiple critics helps stabilize the training process.\n",
    "\n",
    "SAC collects data by interacting with the environment. The actor's stochastic policy is used to sample actions,  \n",
    "and these actions are executed in the environment to collect state-action-reward transitions.\n",
    "SAC uses an experience replay buffer to store and sample past experiences.  \n",
    "This buffer allows the algorithm to learn from a diverse set of experiences and reduce sample correlations.\n",
    "\n",
    "SAC employs a variant of the Bellman equation to update the critics. The key innovation in SAC is the use of a \"soft\" Bellman backup.   \n",
    "This involves minimizing a loss that aims to make the critics agree with each other and be close to the minimum of the Bellman error.\n",
    "\n",
    "The actor's policy is updated based on the soft Q-values from the critics. The objective is to maximize the expected reward, including an entropy term.  \n",
    "The entropy term encourages exploration by discouraging overly deterministic policies.\n",
    "\n",
    "SAC introduces a temperature parameter that scales the entropy term in the policy update. This temperature parameter can be learned or adjusted during training.  \n",
    "It helps balance exploration and exploitation by controlling the level of stochasticity in the policy.\n",
    "\n",
    "These steps are repeated iteratively, allowing the agent to improve its policy and value functions over time. The process continues until convergence or a specified number of iterations.\n",
    "\n",
    "SAC's main advantages include:\n",
    "\n",
    "It can handle continuous action spaces efficiently.\n",
    "It provides a good balance between exploration and exploitation, thanks to the entropy term.\n",
    "It benefits from experience replay, which reduces sample correlations and enhances learning stability.\n",
    "It can be used in combination with target value networks for even more stability.\n",
    "\n",
    "https://arxiv.org/pdf/1801.01290.pdf"
   ]
  },
  {
   "cell_type": "code",
   "execution_count": 1,
   "metadata": {},
   "outputs": [
    {
     "name": "stdout",
     "output_type": "stream",
     "text": [
      "Project root: f:\\OneDrive\\Documents\\GitHub\\rl-alm\n"
     ]
    }
   ],
   "source": [
    "\n",
    "%load_ext autoreload\n",
    "%autoreload 2\n",
    "%matplotlib inline\n",
    "%load_ext tensorboard\n",
    "import os\n",
    "import sys\n",
    "from pathlib import Path\n",
    "from stable_baselines3 import SAC\n",
    "\n",
    "# Find the root directory by traversing up the directory tree\n",
    "def find_project_root(current_path):\n",
    "    if os.path.exists(os.path.join(current_path, \"README.md\")):\n",
    "        return current_path\n",
    "    parent_path = os.path.dirname(current_path)\n",
    "    if parent_path == current_path:\n",
    "        raise ValueError(\"Project root not found.\")\n",
    "    return find_project_root(parent_path)\n",
    "\n",
    "\n",
    "current_dir = os.getcwd()\n",
    "project_root = find_project_root(current_dir)\n",
    "sys.path.append(str(project_root))\n",
    "print(f\"Project root: {project_root}\")\n",
    "\n",
    "# # flake8: noqa  # Disable Flake8 for the following block\n",
    "import gymnasium as gym\n",
    "\n",
    "from src.models.bank_env import BankEnv\n",
    "from src.visualization import visualize\n",
    "import src.models.train as train\n",
    "from src.tests import test_bankmodel_a2c_train as tests\n",
    "from src.data.definitions import MODEL_PATH, TENSORBOARD_LOGS\n",
    "from src.models.evaluate import evaluate_policy"
   ]
  },
  {
   "cell_type": "markdown",
   "metadata": {},
   "source": [
    "##### First test - just take a random walk in the environment. \n",
    "\n",
    "Each episode consists of 60 months. Each timestep interest rates and swap rates are simulated and the bank enters into new mortgages.  \n",
    "Each month the actor needs to decide on the funding strategy to fund the bank. "
   ]
  },
  {
   "cell_type": "code",
   "execution_count": 4,
   "metadata": {},
   "outputs": [],
   "source": [
    "env_id = \"bank-v3\"\n",
    "gym.register(id=env_id, entry_point=BankEnv, max_episode_steps=60)\n"
   ]
  },
  {
   "cell_type": "code",
   "execution_count": 5,
   "metadata": {},
   "outputs": [
    {
     "name": "stderr",
     "output_type": "stream",
     "text": [
      "\u001b[32m2023-10-17 20:54:16.316\u001b[0m | \u001b[1mINFO    \u001b[0m | \u001b[36msrc.data.dataset\u001b[0m:\u001b[36mread_data\u001b[0m:\u001b[36m45\u001b[0m - \u001b[1mreading interest data from ESW.\u001b[0m\n",
      "\u001b[32m2023-10-17 20:54:17.872\u001b[0m | \u001b[1mINFO    \u001b[0m | \u001b[36msrc.data.dataset\u001b[0m:\u001b[36mread_data\u001b[0m:\u001b[36m45\u001b[0m - \u001b[1mreading zerocurve data from ESW.\u001b[0m\n"
     ]
    },
    {
     "name": "stdout",
     "output_type": "stream",
     "text": [
      "Interest period:  (Timestamp('2010-06-01 00:00:00'), Timestamp('2023-08-01 00:00:00'))\n",
      "Zerocurve period:  (Timestamp('2010-06-01 00:00:00'), Timestamp('2023-08-01 00:00:00'))\n",
      "steps: 60, score: -4415\n"
     ]
    }
   ],
   "source": [
    "# Random walk in the environment\n",
    "tests.random_walk(env_id)"
   ]
  },
  {
   "cell_type": "markdown",
   "metadata": {},
   "source": [
    "Define the model. For the initial model we use the A2C model. "
   ]
  },
  {
   "cell_type": "code",
   "execution_count": 8,
   "metadata": {},
   "outputs": [
    {
     "name": "stderr",
     "output_type": "stream",
     "text": [
      "\u001b[32m2023-10-17 20:56:29.891\u001b[0m | \u001b[1mINFO    \u001b[0m | \u001b[36msrc.data.dataset\u001b[0m:\u001b[36mread_data\u001b[0m:\u001b[36m45\u001b[0m - \u001b[1mreading interest data from ESW.\u001b[0m\n",
      "\u001b[32m2023-10-17 20:56:31.308\u001b[0m | \u001b[1mINFO    \u001b[0m | \u001b[36msrc.data.dataset\u001b[0m:\u001b[36mread_data\u001b[0m:\u001b[36m45\u001b[0m - \u001b[1mreading zerocurve data from ESW.\u001b[0m\n"
     ]
    },
    {
     "name": "stdout",
     "output_type": "stream",
     "text": [
      "Interest period:  (Timestamp('2010-06-01 00:00:00'), Timestamp('2023-08-01 00:00:00'))\n",
      "Zerocurve period:  (Timestamp('2010-06-01 00:00:00'), Timestamp('2023-08-01 00:00:00'))\n",
      "Using cpu device\n",
      "Wrapping the env with a `Monitor` wrapper\n",
      "Wrapping the env in a DummyVecEnv.\n"
     ]
    }
   ],
   "source": [
    "env = gym.make(env_id, render_mode=\"human\")\n",
    "\n",
    "# Define a Lineair Learning Rate Scheduler\n",
    "def linear_schedule(initial_value: float):\n",
    "    \"\"\"Linear learning rate schedule.\"\"\"\n",
    "\n",
    "    def func(progress_remaining: float) -> float:\n",
    "        \"\"\"Progress will decrease from 1 (beginning) to 0.\"\"\"\n",
    "        return progress_remaining * initial_value\n",
    "\n",
    "    return func\n",
    "\n",
    "initial_lr = 0.001\n",
    "n_steps = 60\n",
    "model_name = 'SAC'\n",
    "ent_coef= 0.001\n",
    "# policy_kwargs = dict(\n",
    "#    net_arch=[128, 128]\n",
    "# )\n",
    "\n",
    "\n",
    "model = SAC(\n",
    "        \"MultiInputPolicy\",        \n",
    "        env,        \n",
    "        tensorboard_log=TENSORBOARD_LOGS,\n",
    "        verbose=2,        \n",
    "        learning_rate=linear_schedule(initial_lr),\n",
    "        ent_coef='auto',\n",
    "        use_sde = True, # Use generalized State Dependent Exploration (gSDE) instead of action noise exploration\n",
    "        # policy_kwargs = policy_kwargs,        \n",
    "    )"
   ]
  },
  {
   "cell_type": "markdown",
   "metadata": {},
   "source": [
    "##### Train the model in the environment and save it"
   ]
  },
  {
   "cell_type": "code",
   "execution_count": 9,
   "metadata": {},
   "outputs": [
    {
     "name": "stdout",
     "output_type": "stream",
     "text": [
      "Logging to f:\\OneDrive\\Documents\\GitHub\\rl-alm\\tensorboard_logs_1\n"
     ]
    },
    {
     "name": "stderr",
     "output_type": "stream",
     "text": [
      "f:\\OneDrive\\Documents\\GitHub\\rl-alm\\venv\\lib\\site-packages\\gymnasium\\core.py:311: UserWarning: \u001b[33mWARN: env.reset_episode_statistics to get variables from other wrappers is deprecated and will be removed in v1.0, to get this variable you can do `env.unwrapped.reset_episode_statistics` for environment variables or `env.get_wrapper_attr('reset_episode_statistics')` that will search the reminding wrappers.\u001b[0m\n",
      "  logger.warn(\n"
     ]
    },
    {
     "name": "stdout",
     "output_type": "stream",
     "text": [
      "----------------------------------\n",
      "| rollout/           |           |\n",
      "|    ep_len_mean     | 60        |\n",
      "|    ep_rew_mean     | -5.54e+03 |\n",
      "| time/              |           |\n",
      "|    episodes        | 4         |\n",
      "|    fps             | 31        |\n",
      "|    time_elapsed    | 7         |\n",
      "|    total_timesteps | 240       |\n",
      "| train/             |           |\n",
      "|    actor_loss      | 69.6      |\n",
      "|    critic_loss     | 1.64e+04  |\n",
      "|    ent_coef        | 1.01      |\n",
      "|    ent_coef_loss   | 0.0114    |\n",
      "|    learning_rate   | 0.000203  |\n",
      "|    n_updates       | 139       |\n",
      "|    std             | 0.0499    |\n",
      "----------------------------------\n"
     ]
    },
    {
     "name": "stderr",
     "output_type": "stream",
     "text": [
      "f:\\OneDrive\\Documents\\GitHub\\rl-alm\\venv\\lib\\site-packages\\gymnasium\\core.py:311: UserWarning: \u001b[33mWARN: env.episode_rewards to get variables from other wrappers is deprecated and will be removed in v1.0, to get this variable you can do `env.unwrapped.episode_rewards` for environment variables or `env.get_wrapper_attr('episode_rewards')` that will search the reminding wrappers.\u001b[0m\n",
      "  logger.warn(\n"
     ]
    },
    {
     "name": "stdout",
     "output_type": "stream",
     "text": [
      "Model name: SAC, Steps: 300, Mean: -7555.8, IQR: 7001.0, CVaR: -15635.0\n"
     ]
    },
    {
     "data": {
      "image/png": "[encoded data removed]",
      "text/plain": [
       "<Figure size 1000x600 with 1 Axes>"
      ]
     },
     "metadata": {},
     "output_type": "display_data"
    }
   ],
   "source": [
    "steps = 300\n",
    " \n",
    "model, mean, episode_iqr, episode_cvar, episode_rewards = train.train( model, env, total_timesteps=steps, conf_level=0.95, tb_log_name= TENSORBOARD_LOGS)\n",
    "modelpath = Path(    \n",
    "        MODEL_PATH,\n",
    "        model_name + \"_\" + str(steps) + \".zip\",\n",
    "    )\n",
    "model.save(modelpath)\n",
    "print(f\"Model name: {model_name}, Steps: {steps}, Mean: {mean}, IQR: {episode_iqr}, CVaR: {episode_cvar}\")\n",
    "visualize.plot_rewards(episode_rewards, interpolate_line=False, ylim=(-5000,2000))"
   ]
  },
  {
   "cell_type": "code",
   "execution_count": 8,
   "metadata": {},
   "outputs": [
    {
     "name": "stdout",
     "output_type": "stream",
     "text": [
      "MultiInputPolicy(\n",
      "  (actor): Actor(\n",
      "    (features_extractor): CombinedExtractor(\n",
      "      (extractors): ModuleDict(\n",
      "        (liquidity): Flatten(start_dim=1, end_dim=-1)\n",
      "        (cashflows): Flatten(start_dim=1, end_dim=-1)\n",
      "        (swap_rates): Flatten(start_dim=1, end_dim=-1)\n",
      "        (bank_rates): Flatten(start_dim=1, end_dim=-1)\n",
      "        (features): Flatten(start_dim=1, end_dim=-1)\n",
      "      )\n",
      "    )\n",
      "    (latent_pi): Sequential(\n",
      "      (0): Linear(in_features=52, out_features=256, bias=True)\n",
      "      (1): ReLU()\n",
      "      (2): Linear(in_features=256, out_features=256, bias=True)\n",
      "      (3): ReLU()\n",
      "    )\n",
      "    (mu): Linear(in_features=256, out_features=4, bias=True)\n",
      "    (log_std): Linear(in_features=256, out_features=4, bias=True)\n",
      "  )\n",
      "  (critic): ContinuousCritic(\n",
      "    (features_extractor): CombinedExtractor(\n",
      "      (extractors): ModuleDict(\n",
      "        (liquidity): Flatten(start_dim=1, end_dim=-1)\n",
      "        (cashflows): Flatten(start_dim=1, end_dim=-1)\n",
      "        (swap_rates): Flatten(start_dim=1, end_dim=-1)\n",
      "        (bank_rates): Flatten(start_dim=1, end_dim=-1)\n",
      "        (features): Flatten(start_dim=1, end_dim=-1)\n",
      "      )\n",
      "    )\n",
      "    (qf0): Sequential(\n",
      "      (0): Linear(in_features=56, out_features=256, bias=True)\n",
      "      (1): ReLU()\n",
      "      (2): Linear(in_features=256, out_features=256, bias=True)\n",
      "      (3): ReLU()\n",
      "      (4): Linear(in_features=256, out_features=1, bias=True)\n",
      "    )\n",
      "    (qf1): Sequential(\n",
      "      (0): Linear(in_features=56, out_features=256, bias=True)\n",
      "      (1): ReLU()\n",
      "      (2): Linear(in_features=256, out_features=256, bias=True)\n",
      "      (3): ReLU()\n",
      "      (4): Linear(in_features=256, out_features=1, bias=True)\n",
      "    )\n",
      "  )\n",
      "  (critic_target): ContinuousCritic(\n",
      "    (features_extractor): CombinedExtractor(\n",
      "      (extractors): ModuleDict(\n",
      "        (liquidity): Flatten(start_dim=1, end_dim=-1)\n",
      "        (cashflows): Flatten(start_dim=1, end_dim=-1)\n",
      "        (swap_rates): Flatten(start_dim=1, end_dim=-1)\n",
      "        (bank_rates): Flatten(start_dim=1, end_dim=-1)\n",
      "        (features): Flatten(start_dim=1, end_dim=-1)\n",
      "      )\n",
      "    )\n",
      "    (qf0): Sequential(\n",
      "      (0): Linear(in_features=56, out_features=256, bias=True)\n",
      "      (1): ReLU()\n",
      "      (2): Linear(in_features=256, out_features=256, bias=True)\n",
      "      (3): ReLU()\n",
      "      (4): Linear(in_features=256, out_features=1, bias=True)\n",
      "    )\n",
      "    (qf1): Sequential(\n",
      "      (0): Linear(in_features=56, out_features=256, bias=True)\n",
      "      (1): ReLU()\n",
      "      (2): Linear(in_features=256, out_features=256, bias=True)\n",
      "      (3): ReLU()\n",
      "      (4): Linear(in_features=256, out_features=1, bias=True)\n",
      "    )\n",
      "  )\n",
      ")\n"
     ]
    }
   ],
   "source": [
    "print(model.policy)"
   ]
  },
  {
   "cell_type": "code",
   "execution_count": 9,
   "metadata": {},
   "outputs": [
    {
     "name": "stderr",
     "output_type": "stream",
     "text": [
      "f:\\OneDrive\\Documents\\GitHub\\rl-alm\\venv\\lib\\site-packages\\gymnasium\\core.py:311: UserWarning: \u001b[33mWARN: env.list_model to get variables from other wrappers is deprecated and will be removed in v1.0, to get this variable you can do `env.unwrapped.list_model` for environment variables or `env.get_wrapper_attr('list_model')` that will search the reminding wrappers.\u001b[0m\n",
      "  logger.warn(\n",
      "f:\\OneDrive\\Documents\\GitHub\\rl-alm\\venv\\lib\\site-packages\\gymnasium\\core.py:311: UserWarning: \u001b[33mWARN: env.list_model to get variables from other wrappers is deprecated and will be removed in v1.0, to get this variable you can do `env.unwrapped.list_model` for environment variables or `env.get_wrapper_attr('list_model')` that will search the reminding wrappers.\u001b[0m\n",
      "  logger.warn(\n",
      "f:\\OneDrive\\Documents\\GitHub\\rl-alm\\venv\\lib\\site-packages\\gymnasium\\core.py:311: UserWarning: \u001b[33mWARN: env.list_model to get variables from other wrappers is deprecated and will be removed in v1.0, to get this variable you can do `env.unwrapped.list_model` for environment variables or `env.get_wrapper_attr('list_model')` that will search the reminding wrappers.\u001b[0m\n",
      "  logger.warn(\n",
      "f:\\OneDrive\\Documents\\GitHub\\rl-alm\\venv\\lib\\site-packages\\gymnasium\\core.py:311: UserWarning: \u001b[33mWARN: env.list_model to get variables from other wrappers is deprecated and will be removed in v1.0, to get this variable you can do `env.unwrapped.list_model` for environment variables or `env.get_wrapper_attr('list_model')` that will search the reminding wrappers.\u001b[0m\n",
      "  logger.warn(\n",
      "f:\\OneDrive\\Documents\\GitHub\\rl-alm\\venv\\lib\\site-packages\\gymnasium\\core.py:311: UserWarning: \u001b[33mWARN: env.list_model to get variables from other wrappers is deprecated and will be removed in v1.0, to get this variable you can do `env.unwrapped.list_model` for environment variables or `env.get_wrapper_attr('list_model')` that will search the reminding wrappers.\u001b[0m\n",
      "  logger.warn(\n",
      "f:\\OneDrive\\Documents\\GitHub\\rl-alm\\venv\\lib\\site-packages\\gymnasium\\core.py:311: UserWarning: \u001b[33mWARN: env.list_model to get variables from other wrappers is deprecated and will be removed in v1.0, to get this variable you can do `env.unwrapped.list_model` for environment variables or `env.get_wrapper_attr('list_model')` that will search the reminding wrappers.\u001b[0m\n",
      "  logger.warn(\n",
      "f:\\OneDrive\\Documents\\GitHub\\rl-alm\\venv\\lib\\site-packages\\gymnasium\\core.py:311: UserWarning: \u001b[33mWARN: env.list_model to get variables from other wrappers is deprecated and will be removed in v1.0, to get this variable you can do `env.unwrapped.list_model` for environment variables or `env.get_wrapper_attr('list_model')` that will search the reminding wrappers.\u001b[0m\n",
      "  logger.warn(\n",
      "f:\\OneDrive\\Documents\\GitHub\\rl-alm\\venv\\lib\\site-packages\\gymnasium\\core.py:311: UserWarning: \u001b[33mWARN: env.list_model to get variables from other wrappers is deprecated and will be removed in v1.0, to get this variable you can do `env.unwrapped.list_model` for environment variables or `env.get_wrapper_attr('list_model')` that will search the reminding wrappers.\u001b[0m\n",
      "  logger.warn(\n",
      "f:\\OneDrive\\Documents\\GitHub\\rl-alm\\venv\\lib\\site-packages\\gymnasium\\core.py:311: UserWarning: \u001b[33mWARN: env.list_model to get variables from other wrappers is deprecated and will be removed in v1.0, to get this variable you can do `env.unwrapped.list_model` for environment variables or `env.get_wrapper_attr('list_model')` that will search the reminding wrappers.\u001b[0m\n",
      "  logger.warn(\n",
      "f:\\OneDrive\\Documents\\GitHub\\rl-alm\\venv\\lib\\site-packages\\gymnasium\\core.py:311: UserWarning: \u001b[33mWARN: env.list_model to get variables from other wrappers is deprecated and will be removed in v1.0, to get this variable you can do `env.unwrapped.list_model` for environment variables or `env.get_wrapper_attr('list_model')` that will search the reminding wrappers.\u001b[0m\n",
      "  logger.warn(\n",
      "f:\\OneDrive\\Documents\\GitHub\\rl-alm\\venv\\lib\\site-packages\\gymnasium\\core.py:311: UserWarning: \u001b[33mWARN: env.list_model to get variables from other wrappers is deprecated and will be removed in v1.0, to get this variable you can do `env.unwrapped.list_model` for environment variables or `env.get_wrapper_attr('list_model')` that will search the reminding wrappers.\u001b[0m\n",
      "  logger.warn(\n",
      "f:\\OneDrive\\Documents\\GitHub\\rl-alm\\venv\\lib\\site-packages\\gymnasium\\core.py:311: UserWarning: \u001b[33mWARN: env.list_model to get variables from other wrappers is deprecated and will be removed in v1.0, to get this variable you can do `env.unwrapped.list_model` for environment variables or `env.get_wrapper_attr('list_model')` that will search the reminding wrappers.\u001b[0m\n",
      "  logger.warn(\n",
      "f:\\OneDrive\\Documents\\GitHub\\rl-alm\\venv\\lib\\site-packages\\gymnasium\\core.py:311: UserWarning: \u001b[33mWARN: env.list_model to get variables from other wrappers is deprecated and will be removed in v1.0, to get this variable you can do `env.unwrapped.list_model` for environment variables or `env.get_wrapper_attr('list_model')` that will search the reminding wrappers.\u001b[0m\n",
      "  logger.warn(\n",
      "f:\\OneDrive\\Documents\\GitHub\\rl-alm\\venv\\lib\\site-packages\\gymnasium\\core.py:311: UserWarning: \u001b[33mWARN: env.list_model to get variables from other wrappers is deprecated and will be removed in v1.0, to get this variable you can do `env.unwrapped.list_model` for environment variables or `env.get_wrapper_attr('list_model')` that will search the reminding wrappers.\u001b[0m\n",
      "  logger.warn(\n",
      "f:\\OneDrive\\Documents\\GitHub\\rl-alm\\venv\\lib\\site-packages\\gymnasium\\core.py:311: UserWarning: \u001b[33mWARN: env.list_model to get variables from other wrappers is deprecated and will be removed in v1.0, to get this variable you can do `env.unwrapped.list_model` for environment variables or `env.get_wrapper_attr('list_model')` that will search the reminding wrappers.\u001b[0m\n",
      "  logger.warn(\n",
      "f:\\OneDrive\\Documents\\GitHub\\rl-alm\\venv\\lib\\site-packages\\gymnasium\\core.py:311: UserWarning: \u001b[33mWARN: env.list_model to get variables from other wrappers is deprecated and will be removed in v1.0, to get this variable you can do `env.unwrapped.list_model` for environment variables or `env.get_wrapper_attr('list_model')` that will search the reminding wrappers.\u001b[0m\n",
      "  logger.warn(\n",
      "f:\\OneDrive\\Documents\\GitHub\\rl-alm\\venv\\lib\\site-packages\\gymnasium\\core.py:311: UserWarning: \u001b[33mWARN: env.list_model to get variables from other wrappers is deprecated and will be removed in v1.0, to get this variable you can do `env.unwrapped.list_model` for environment variables or `env.get_wrapper_attr('list_model')` that will search the reminding wrappers.\u001b[0m\n",
      "  logger.warn(\n",
      "f:\\OneDrive\\Documents\\GitHub\\rl-alm\\venv\\lib\\site-packages\\gymnasium\\core.py:311: UserWarning: \u001b[33mWARN: env.list_model to get variables from other wrappers is deprecated and will be removed in v1.0, to get this variable you can do `env.unwrapped.list_model` for environment variables or `env.get_wrapper_attr('list_model')` that will search the reminding wrappers.\u001b[0m\n",
      "  logger.warn(\n",
      "f:\\OneDrive\\Documents\\GitHub\\rl-alm\\venv\\lib\\site-packages\\gymnasium\\core.py:311: UserWarning: \u001b[33mWARN: env.list_model to get variables from other wrappers is deprecated and will be removed in v1.0, to get this variable you can do `env.unwrapped.list_model` for environment variables or `env.get_wrapper_attr('list_model')` that will search the reminding wrappers.\u001b[0m\n",
      "  logger.warn(\n",
      "f:\\OneDrive\\Documents\\GitHub\\rl-alm\\venv\\lib\\site-packages\\gymnasium\\core.py:311: UserWarning: \u001b[33mWARN: env.list_model to get variables from other wrappers is deprecated and will be removed in v1.0, to get this variable you can do `env.unwrapped.list_model` for environment variables or `env.get_wrapper_attr('list_model')` that will search the reminding wrappers.\u001b[0m\n",
      "  logger.warn(\n",
      "f:\\OneDrive\\Documents\\GitHub\\rl-alm\\venv\\lib\\site-packages\\gymnasium\\core.py:311: UserWarning: \u001b[33mWARN: env.list_model to get variables from other wrappers is deprecated and will be removed in v1.0, to get this variable you can do `env.unwrapped.list_model` for environment variables or `env.get_wrapper_attr('list_model')` that will search the reminding wrappers.\u001b[0m\n",
      "  logger.warn(\n",
      "f:\\OneDrive\\Documents\\GitHub\\rl-alm\\venv\\lib\\site-packages\\gymnasium\\core.py:311: UserWarning: \u001b[33mWARN: env.list_model to get variables from other wrappers is deprecated and will be removed in v1.0, to get this variable you can do `env.unwrapped.list_model` for environment variables or `env.get_wrapper_attr('list_model')` that will search the reminding wrappers.\u001b[0m\n",
      "  logger.warn(\n",
      "f:\\OneDrive\\Documents\\GitHub\\rl-alm\\venv\\lib\\site-packages\\gymnasium\\core.py:311: UserWarning: \u001b[33mWARN: env.list_model to get variables from other wrappers is deprecated and will be removed in v1.0, to get this variable you can do `env.unwrapped.list_model` for environment variables or `env.get_wrapper_attr('list_model')` that will search the reminding wrappers.\u001b[0m\n",
      "  logger.warn(\n",
      "f:\\OneDrive\\Documents\\GitHub\\rl-alm\\venv\\lib\\site-packages\\gymnasium\\core.py:311: UserWarning: \u001b[33mWARN: env.list_model to get variables from other wrappers is deprecated and will be removed in v1.0, to get this variable you can do `env.unwrapped.list_model` for environment variables or `env.get_wrapper_attr('list_model')` that will search the reminding wrappers.\u001b[0m\n",
      "  logger.warn(\n",
      "f:\\OneDrive\\Documents\\GitHub\\rl-alm\\venv\\lib\\site-packages\\gymnasium\\core.py:311: UserWarning: \u001b[33mWARN: env.list_model to get variables from other wrappers is deprecated and will be removed in v1.0, to get this variable you can do `env.unwrapped.list_model` for environment variables or `env.get_wrapper_attr('list_model')` that will search the reminding wrappers.\u001b[0m\n",
      "  logger.warn(\n",
      "f:\\OneDrive\\Documents\\GitHub\\rl-alm\\venv\\lib\\site-packages\\gymnasium\\core.py:311: UserWarning: \u001b[33mWARN: env.list_model to get variables from other wrappers is deprecated and will be removed in v1.0, to get this variable you can do `env.unwrapped.list_model` for environment variables or `env.get_wrapper_attr('list_model')` that will search the reminding wrappers.\u001b[0m\n",
      "  logger.warn(\n",
      "f:\\OneDrive\\Documents\\GitHub\\rl-alm\\venv\\lib\\site-packages\\gymnasium\\core.py:311: UserWarning: \u001b[33mWARN: env.list_model to get variables from other wrappers is deprecated and will be removed in v1.0, to get this variable you can do `env.unwrapped.list_model` for environment variables or `env.get_wrapper_attr('list_model')` that will search the reminding wrappers.\u001b[0m\n",
      "  logger.warn(\n",
      "f:\\OneDrive\\Documents\\GitHub\\rl-alm\\venv\\lib\\site-packages\\gymnasium\\core.py:311: UserWarning: \u001b[33mWARN: env.list_model to get variables from other wrappers is deprecated and will be removed in v1.0, to get this variable you can do `env.unwrapped.list_model` for environment variables or `env.get_wrapper_attr('list_model')` that will search the reminding wrappers.\u001b[0m\n",
      "  logger.warn(\n",
      "f:\\OneDrive\\Documents\\GitHub\\rl-alm\\venv\\lib\\site-packages\\gymnasium\\core.py:311: UserWarning: \u001b[33mWARN: env.list_model to get variables from other wrappers is deprecated and will be removed in v1.0, to get this variable you can do `env.unwrapped.list_model` for environment variables or `env.get_wrapper_attr('list_model')` that will search the reminding wrappers.\u001b[0m\n",
      "  logger.warn(\n",
      "f:\\OneDrive\\Documents\\GitHub\\rl-alm\\venv\\lib\\site-packages\\gymnasium\\core.py:311: UserWarning: \u001b[33mWARN: env.list_model to get variables from other wrappers is deprecated and will be removed in v1.0, to get this variable you can do `env.unwrapped.list_model` for environment variables or `env.get_wrapper_attr('list_model')` that will search the reminding wrappers.\u001b[0m\n",
      "  logger.warn(\n",
      "f:\\OneDrive\\Documents\\GitHub\\rl-alm\\venv\\lib\\site-packages\\gymnasium\\core.py:311: UserWarning: \u001b[33mWARN: env.list_model to get variables from other wrappers is deprecated and will be removed in v1.0, to get this variable you can do `env.unwrapped.list_model` for environment variables or `env.get_wrapper_attr('list_model')` that will search the reminding wrappers.\u001b[0m\n",
      "  logger.warn(\n",
      "f:\\OneDrive\\Documents\\GitHub\\rl-alm\\venv\\lib\\site-packages\\gymnasium\\core.py:311: UserWarning: \u001b[33mWARN: env.list_model to get variables from other wrappers is deprecated and will be removed in v1.0, to get this variable you can do `env.unwrapped.list_model` for environment variables or `env.get_wrapper_attr('list_model')` that will search the reminding wrappers.\u001b[0m\n",
      "  logger.warn(\n",
      "f:\\OneDrive\\Documents\\GitHub\\rl-alm\\venv\\lib\\site-packages\\gymnasium\\core.py:311: UserWarning: \u001b[33mWARN: env.list_model to get variables from other wrappers is deprecated and will be removed in v1.0, to get this variable you can do `env.unwrapped.list_model` for environment variables or `env.get_wrapper_attr('list_model')` that will search the reminding wrappers.\u001b[0m\n",
      "  logger.warn(\n",
      "f:\\OneDrive\\Documents\\GitHub\\rl-alm\\venv\\lib\\site-packages\\gymnasium\\core.py:311: UserWarning: \u001b[33mWARN: env.list_model to get variables from other wrappers is deprecated and will be removed in v1.0, to get this variable you can do `env.unwrapped.list_model` for environment variables or `env.get_wrapper_attr('list_model')` that will search the reminding wrappers.\u001b[0m\n",
      "  logger.warn(\n",
      "f:\\OneDrive\\Documents\\GitHub\\rl-alm\\venv\\lib\\site-packages\\gymnasium\\core.py:311: UserWarning: \u001b[33mWARN: env.list_model to get variables from other wrappers is deprecated and will be removed in v1.0, to get this variable you can do `env.unwrapped.list_model` for environment variables or `env.get_wrapper_attr('list_model')` that will search the reminding wrappers.\u001b[0m\n",
      "  logger.warn(\n",
      "f:\\OneDrive\\Documents\\GitHub\\rl-alm\\venv\\lib\\site-packages\\gymnasium\\core.py:311: UserWarning: \u001b[33mWARN: env.list_model to get variables from other wrappers is deprecated and will be removed in v1.0, to get this variable you can do `env.unwrapped.list_model` for environment variables or `env.get_wrapper_attr('list_model')` that will search the reminding wrappers.\u001b[0m\n",
      "  logger.warn(\n",
      "f:\\OneDrive\\Documents\\GitHub\\rl-alm\\venv\\lib\\site-packages\\gymnasium\\core.py:311: UserWarning: \u001b[33mWARN: env.list_model to get variables from other wrappers is deprecated and will be removed in v1.0, to get this variable you can do `env.unwrapped.list_model` for environment variables or `env.get_wrapper_attr('list_model')` that will search the reminding wrappers.\u001b[0m\n",
      "  logger.warn(\n",
      "f:\\OneDrive\\Documents\\GitHub\\rl-alm\\venv\\lib\\site-packages\\gymnasium\\core.py:311: UserWarning: \u001b[33mWARN: env.list_model to get variables from other wrappers is deprecated and will be removed in v1.0, to get this variable you can do `env.unwrapped.list_model` for environment variables or `env.get_wrapper_attr('list_model')` that will search the reminding wrappers.\u001b[0m\n",
      "  logger.warn(\n",
      "f:\\OneDrive\\Documents\\GitHub\\rl-alm\\venv\\lib\\site-packages\\gymnasium\\core.py:311: UserWarning: \u001b[33mWARN: env.list_model to get variables from other wrappers is deprecated and will be removed in v1.0, to get this variable you can do `env.unwrapped.list_model` for environment variables or `env.get_wrapper_attr('list_model')` that will search the reminding wrappers.\u001b[0m\n",
      "  logger.warn(\n",
      "f:\\OneDrive\\Documents\\GitHub\\rl-alm\\venv\\lib\\site-packages\\gymnasium\\core.py:311: UserWarning: \u001b[33mWARN: env.list_model to get variables from other wrappers is deprecated and will be removed in v1.0, to get this variable you can do `env.unwrapped.list_model` for environment variables or `env.get_wrapper_attr('list_model')` that will search the reminding wrappers.\u001b[0m\n",
      "  logger.warn(\n",
      "f:\\OneDrive\\Documents\\GitHub\\rl-alm\\venv\\lib\\site-packages\\gymnasium\\core.py:311: UserWarning: \u001b[33mWARN: env.list_model to get variables from other wrappers is deprecated and will be removed in v1.0, to get this variable you can do `env.unwrapped.list_model` for environment variables or `env.get_wrapper_attr('list_model')` that will search the reminding wrappers.\u001b[0m\n",
      "  logger.warn(\n",
      "f:\\OneDrive\\Documents\\GitHub\\rl-alm\\venv\\lib\\site-packages\\gymnasium\\core.py:311: UserWarning: \u001b[33mWARN: env.list_model to get variables from other wrappers is deprecated and will be removed in v1.0, to get this variable you can do `env.unwrapped.list_model` for environment variables or `env.get_wrapper_attr('list_model')` that will search the reminding wrappers.\u001b[0m\n",
      "  logger.warn(\n",
      "f:\\OneDrive\\Documents\\GitHub\\rl-alm\\venv\\lib\\site-packages\\gymnasium\\core.py:311: UserWarning: \u001b[33mWARN: env.list_model to get variables from other wrappers is deprecated and will be removed in v1.0, to get this variable you can do `env.unwrapped.list_model` for environment variables or `env.get_wrapper_attr('list_model')` that will search the reminding wrappers.\u001b[0m\n",
      "  logger.warn(\n",
      "f:\\OneDrive\\Documents\\GitHub\\rl-alm\\venv\\lib\\site-packages\\gymnasium\\core.py:311: UserWarning: \u001b[33mWARN: env.list_model to get variables from other wrappers is deprecated and will be removed in v1.0, to get this variable you can do `env.unwrapped.list_model` for environment variables or `env.get_wrapper_attr('list_model')` that will search the reminding wrappers.\u001b[0m\n",
      "  logger.warn(\n",
      "f:\\OneDrive\\Documents\\GitHub\\rl-alm\\venv\\lib\\site-packages\\gymnasium\\core.py:311: UserWarning: \u001b[33mWARN: env.list_model to get variables from other wrappers is deprecated and will be removed in v1.0, to get this variable you can do `env.unwrapped.list_model` for environment variables or `env.get_wrapper_attr('list_model')` that will search the reminding wrappers.\u001b[0m\n",
      "  logger.warn(\n",
      "f:\\OneDrive\\Documents\\GitHub\\rl-alm\\venv\\lib\\site-packages\\gymnasium\\core.py:311: UserWarning: \u001b[33mWARN: env.list_model to get variables from other wrappers is deprecated and will be removed in v1.0, to get this variable you can do `env.unwrapped.list_model` for environment variables or `env.get_wrapper_attr('list_model')` that will search the reminding wrappers.\u001b[0m\n",
      "  logger.warn(\n",
      "f:\\OneDrive\\Documents\\GitHub\\rl-alm\\venv\\lib\\site-packages\\gymnasium\\core.py:311: UserWarning: \u001b[33mWARN: env.list_model to get variables from other wrappers is deprecated and will be removed in v1.0, to get this variable you can do `env.unwrapped.list_model` for environment variables or `env.get_wrapper_attr('list_model')` that will search the reminding wrappers.\u001b[0m\n",
      "  logger.warn(\n",
      "f:\\OneDrive\\Documents\\GitHub\\rl-alm\\venv\\lib\\site-packages\\gymnasium\\core.py:311: UserWarning: \u001b[33mWARN: env.list_model to get variables from other wrappers is deprecated and will be removed in v1.0, to get this variable you can do `env.unwrapped.list_model` for environment variables or `env.get_wrapper_attr('list_model')` that will search the reminding wrappers.\u001b[0m\n",
      "  logger.warn(\n",
      "f:\\OneDrive\\Documents\\GitHub\\rl-alm\\venv\\lib\\site-packages\\gymnasium\\core.py:311: UserWarning: \u001b[33mWARN: env.list_model to get variables from other wrappers is deprecated and will be removed in v1.0, to get this variable you can do `env.unwrapped.list_model` for environment variables or `env.get_wrapper_attr('list_model')` that will search the reminding wrappers.\u001b[0m\n",
      "  logger.warn(\n",
      "f:\\OneDrive\\Documents\\GitHub\\rl-alm\\venv\\lib\\site-packages\\gymnasium\\core.py:311: UserWarning: \u001b[33mWARN: env.list_model to get variables from other wrappers is deprecated and will be removed in v1.0, to get this variable you can do `env.unwrapped.list_model` for environment variables or `env.get_wrapper_attr('list_model')` that will search the reminding wrappers.\u001b[0m\n",
      "  logger.warn(\n",
      "f:\\OneDrive\\Documents\\GitHub\\rl-alm\\venv\\lib\\site-packages\\gymnasium\\core.py:311: UserWarning: \u001b[33mWARN: env.list_model to get variables from other wrappers is deprecated and will be removed in v1.0, to get this variable you can do `env.unwrapped.list_model` for environment variables or `env.get_wrapper_attr('list_model')` that will search the reminding wrappers.\u001b[0m\n",
      "  logger.warn(\n",
      "f:\\OneDrive\\Documents\\GitHub\\rl-alm\\venv\\lib\\site-packages\\gymnasium\\core.py:311: UserWarning: \u001b[33mWARN: env.list_model to get variables from other wrappers is deprecated and will be removed in v1.0, to get this variable you can do `env.unwrapped.list_model` for environment variables or `env.get_wrapper_attr('list_model')` that will search the reminding wrappers.\u001b[0m\n",
      "  logger.warn(\n",
      "f:\\OneDrive\\Documents\\GitHub\\rl-alm\\venv\\lib\\site-packages\\gymnasium\\core.py:311: UserWarning: \u001b[33mWARN: env.list_model to get variables from other wrappers is deprecated and will be removed in v1.0, to get this variable you can do `env.unwrapped.list_model` for environment variables or `env.get_wrapper_attr('list_model')` that will search the reminding wrappers.\u001b[0m\n",
      "  logger.warn(\n",
      "f:\\OneDrive\\Documents\\GitHub\\rl-alm\\venv\\lib\\site-packages\\gymnasium\\core.py:311: UserWarning: \u001b[33mWARN: env.list_model to get variables from other wrappers is deprecated and will be removed in v1.0, to get this variable you can do `env.unwrapped.list_model` for environment variables or `env.get_wrapper_attr('list_model')` that will search the reminding wrappers.\u001b[0m\n",
      "  logger.warn(\n",
      "f:\\OneDrive\\Documents\\GitHub\\rl-alm\\venv\\lib\\site-packages\\gymnasium\\core.py:311: UserWarning: \u001b[33mWARN: env.list_model to get variables from other wrappers is deprecated and will be removed in v1.0, to get this variable you can do `env.unwrapped.list_model` for environment variables or `env.get_wrapper_attr('list_model')` that will search the reminding wrappers.\u001b[0m\n",
      "  logger.warn(\n",
      "f:\\OneDrive\\Documents\\GitHub\\rl-alm\\venv\\lib\\site-packages\\gymnasium\\core.py:311: UserWarning: \u001b[33mWARN: env.list_model to get variables from other wrappers is deprecated and will be removed in v1.0, to get this variable you can do `env.unwrapped.list_model` for environment variables or `env.get_wrapper_attr('list_model')` that will search the reminding wrappers.\u001b[0m\n",
      "  logger.warn(\n",
      "f:\\OneDrive\\Documents\\GitHub\\rl-alm\\venv\\lib\\site-packages\\gymnasium\\core.py:311: UserWarning: \u001b[33mWARN: env.list_model to get variables from other wrappers is deprecated and will be removed in v1.0, to get this variable you can do `env.unwrapped.list_model` for environment variables or `env.get_wrapper_attr('list_model')` that will search the reminding wrappers.\u001b[0m\n",
      "  logger.warn(\n",
      "f:\\OneDrive\\Documents\\GitHub\\rl-alm\\venv\\lib\\site-packages\\gymnasium\\core.py:311: UserWarning: \u001b[33mWARN: env.list_model to get variables from other wrappers is deprecated and will be removed in v1.0, to get this variable you can do `env.unwrapped.list_model` for environment variables or `env.get_wrapper_attr('list_model')` that will search the reminding wrappers.\u001b[0m\n",
      "  logger.warn(\n",
      "f:\\OneDrive\\Documents\\GitHub\\rl-alm\\venv\\lib\\site-packages\\gymnasium\\core.py:311: UserWarning: \u001b[33mWARN: env.list_model to get variables from other wrappers is deprecated and will be removed in v1.0, to get this variable you can do `env.unwrapped.list_model` for environment variables or `env.get_wrapper_attr('list_model')` that will search the reminding wrappers.\u001b[0m\n",
      "  logger.warn(\n",
      "f:\\OneDrive\\Documents\\GitHub\\rl-alm\\venv\\lib\\site-packages\\gymnasium\\core.py:311: UserWarning: \u001b[33mWARN: env.list_model to get variables from other wrappers is deprecated and will be removed in v1.0, to get this variable you can do `env.unwrapped.list_model` for environment variables or `env.get_wrapper_attr('list_model')` that will search the reminding wrappers.\u001b[0m\n",
      "  logger.warn(\n",
      "f:\\OneDrive\\Documents\\GitHub\\rl-alm\\venv\\lib\\site-packages\\gymnasium\\core.py:311: UserWarning: \u001b[33mWARN: env.plot to get variables from other wrappers is deprecated and will be removed in v1.0, to get this variable you can do `env.unwrapped.plot` for environment variables or `env.get_wrapper_attr('plot')` that will search the reminding wrappers.\u001b[0m\n",
      "  logger.warn(\n"
     ]
    },
    {
     "ename": "TypeError",
     "evalue": "'NoneType' object is not subscriptable",
     "output_type": "error",
     "traceback": [
      "\u001b[1;31m---------------------------------------------------------------------------\u001b[0m",
      "\u001b[1;31mTypeError\u001b[0m                                 Traceback (most recent call last)",
      "\u001b[1;32mf:\\OneDrive\\Documents\\GitHub\\rl-alm\\notebooks\\Train SAC model.ipynb Cell 11\u001b[0m line \u001b[0;36m2\n\u001b[0;32m     <a href='vscode-notebook-cell:/f%3A/OneDrive/Documents/GitHub/rl-alm/notebooks/Train%20SAC%20model.ipynb#X13sZmlsZQ%3D%3D?line=16'>17</a>\u001b[0m     env\u001b[39m.\u001b[39mclose()    \n\u001b[0;32m     <a href='vscode-notebook-cell:/f%3A/OneDrive/Documents/GitHub/rl-alm/notebooks/Train%20SAC%20model.ipynb#X13sZmlsZQ%3D%3D?line=17'>18</a>\u001b[0m     \u001b[39mreturn\u001b[39;00m score, df\n\u001b[1;32m---> <a href='vscode-notebook-cell:/f%3A/OneDrive/Documents/GitHub/rl-alm/notebooks/Train%20SAC%20model.ipynb#X13sZmlsZQ%3D%3D?line=19'>20</a>\u001b[0m score, df \u001b[39m=\u001b[39m show_model(env, model)\n\u001b[0;32m     <a href='vscode-notebook-cell:/f%3A/OneDrive/Documents/GitHub/rl-alm/notebooks/Train%20SAC%20model.ipynb#X13sZmlsZQ%3D%3D?line=20'>21</a>\u001b[0m \u001b[39mprint\u001b[39m (\u001b[39m'\u001b[39m\u001b[39mfinal score: \u001b[39m\u001b[39m'\u001b[39m, score)\n\u001b[0;32m     <a href='vscode-notebook-cell:/f%3A/OneDrive/Documents/GitHub/rl-alm/notebooks/Train%20SAC%20model.ipynb#X13sZmlsZQ%3D%3D?line=21'>22</a>\u001b[0m df\u001b[39m.\u001b[39mhead(\u001b[39m60\u001b[39m)\n",
      "\u001b[1;32mf:\\OneDrive\\Documents\\GitHub\\rl-alm\\notebooks\\Train SAC model.ipynb Cell 11\u001b[0m line \u001b[0;36m1\n\u001b[0;32m     <a href='vscode-notebook-cell:/f%3A/OneDrive/Documents/GitHub/rl-alm/notebooks/Train%20SAC%20model.ipynb#X13sZmlsZQ%3D%3D?line=13'>14</a>\u001b[0m     \u001b[39m# env.render()\u001b[39;00m\n\u001b[0;32m     <a href='vscode-notebook-cell:/f%3A/OneDrive/Documents/GitHub/rl-alm/notebooks/Train%20SAC%20model.ipynb#X13sZmlsZQ%3D%3D?line=14'>15</a>\u001b[0m     df \u001b[39m=\u001b[39m env\u001b[39m.\u001b[39mlist_model()    \n\u001b[1;32m---> <a href='vscode-notebook-cell:/f%3A/OneDrive/Documents/GitHub/rl-alm/notebooks/Train%20SAC%20model.ipynb#X13sZmlsZQ%3D%3D?line=15'>16</a>\u001b[0m env\u001b[39m.\u001b[39;49mplot()\n\u001b[0;32m     <a href='vscode-notebook-cell:/f%3A/OneDrive/Documents/GitHub/rl-alm/notebooks/Train%20SAC%20model.ipynb#X13sZmlsZQ%3D%3D?line=16'>17</a>\u001b[0m env\u001b[39m.\u001b[39mclose()    \n\u001b[0;32m     <a href='vscode-notebook-cell:/f%3A/OneDrive/Documents/GitHub/rl-alm/notebooks/Train%20SAC%20model.ipynb#X13sZmlsZQ%3D%3D?line=17'>18</a>\u001b[0m \u001b[39mreturn\u001b[39;00m score, df\n",
      "File \u001b[1;32mf:\\OneDrive\\Documents\\GitHub\\rl-alm\\src\\models\\bank_env.py:167\u001b[0m, in \u001b[0;36mBankEnv.plot\u001b[1;34m(self)\u001b[0m\n\u001b[0;32m    164\u001b[0m mortgages \u001b[39m=\u001b[39m mortgages[\u001b[39mfilter\u001b[39m]\n\u001b[0;32m    166\u001b[0m funding \u001b[39m=\u001b[39m \u001b[39mself\u001b[39m\u001b[39m.\u001b[39mbankmodel\u001b[39m.\u001b[39msa_funding\n\u001b[1;32m--> 167\u001b[0m \u001b[39mfilter\u001b[39m \u001b[39m=\u001b[39m funding[\u001b[39m\"\u001b[39;49m\u001b[39mmaturity_date\u001b[39;49m\u001b[39m\"\u001b[39;49m] \u001b[39m>\u001b[39m \u001b[39mself\u001b[39m\u001b[39m.\u001b[39mbankmodel\u001b[39m.\u001b[39mpos_date\n\u001b[0;32m    168\u001b[0m funding \u001b[39m=\u001b[39m funding[\u001b[39mfilter\u001b[39m]\n\u001b[0;32m    170\u001b[0m interest_rates \u001b[39m=\u001b[39m \u001b[39mself\u001b[39m\u001b[39m.\u001b[39mbankmodel\u001b[39m.\u001b[39mhullwhite\u001b[39m.\u001b[39mget_simulated_interest_rates(\n\u001b[0;32m    171\u001b[0m     \u001b[39mself\u001b[39m\u001b[39m.\u001b[39mtimestep \u001b[39m-\u001b[39m \u001b[39m1\u001b[39m\n\u001b[0;32m    172\u001b[0m )\n",
      "\u001b[1;31mTypeError\u001b[0m: 'NoneType' object is not subscriptable"
     ]
    }
   ],
   "source": [
    "def show_model(env, model) -> int:\n",
    "    \"\"\"Show the model in the environment\"\"\"        \n",
    "    # env.set_render_output(modelpath.stem)\n",
    "    obs, info = env.reset()\n",
    "    score = 0\n",
    "    terminated = False\n",
    "    truncated = False\n",
    "    # env.set_render_output('A2C')\n",
    "\n",
    "    while not terminated and not truncated:\n",
    "        action, _state = model.predict(obs)\n",
    "        obs, reward, terminated, truncated, info = env.step(action)\n",
    "        score = score + reward\n",
    "        # env.render()\n",
    "        df = env.list_model()    \n",
    "    env.plot()\n",
    "    env.close()    \n",
    "    return score, df\n",
    "\n",
    "score, df = show_model(env, model)\n",
    "print ('final score: ', score)\n",
    "df.head(60)"
   ]
  },
  {
   "cell_type": "code",
   "execution_count": 10,
   "metadata": {},
   "outputs": [],
   "source": [
    "mean_reward, irq, es, rewards = evaluate_policy(model, env, n_eval_episodes=500)"
   ]
  },
  {
   "cell_type": "code",
   "execution_count": 11,
   "metadata": {},
   "outputs": [
    {
     "name": "stdout",
     "output_type": "stream",
     "text": [
      "number of episodes = 500, mean_reward=-0.16 Expected Shortfall=-20.50 Interquartile Range=0.00\n"
     ]
    }
   ],
   "source": [
    "print(f\"number of episodes = {len(rewards)}, mean_reward={mean_reward:.2f} Expected Shortfall={es:.2f} Interquartile Range={irq:.2f}\")"
   ]
  },
  {
   "cell_type": "code",
   "execution_count": 12,
   "metadata": {},
   "outputs": [
    {
     "data": {
      "image/png": "[encoded data removed]",
      "text/plain": [
       "<Figure size 1000x600 with 1 Axes>"
      ]
     },
     "metadata": {},
     "output_type": "display_data"
    }
   ],
   "source": [
    "visualize.plot_rewards(rewards, interpolate_line=False)"
   ]
  }
 ],
 "metadata": {
  "kernelspec": {
   "display_name": "rlalm",
   "language": "python",
   "name": "python3"
  },
  "language_info": {
   "codemirror_mode": {
    "name": "ipython",
    "version": 3
   },
   "file_extension": ".py",
   "mimetype": "text/x-python",
   "name": "python",
   "nbconvert_exporter": "python",
   "pygments_lexer": "ipython3",
   "version": "3.10.0"
  },
  "orig_nbformat": 4
 },
 "nbformat": 4,
 "nbformat_minor": 2
}
