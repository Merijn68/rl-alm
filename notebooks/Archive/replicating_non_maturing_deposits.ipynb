{
 "cells": [
  {
   "attachments": {},
   "cell_type": "markdown",
   "id": "32d466b6",
   "metadata": {},
   "source": [
    "### Simulating Non Maturing deposits \n",
    "\n",
    "Non-maturing deposits (mainly current accounts and savings) can exhibit unpredictable cash flow patterns because the movement of funds is contingent on the behavior of the customers, who may withdraw their funds at any time. In addition, banks can alter their deposit rates at any point. As a result, there is a certain level of unpredictability associated with non-maturing deposits, which can benefit either the bank or the customer depending on the circumstances.\n",
    "\n",
    "#### Account policy for savings\n",
    "Savings consist of balances on (bank) savings accounts, savings deposits and term deposits of households. "
   ]
  },
  {
   "cell_type": "code",
   "execution_count": 1,
   "id": "501e7ee4",
   "metadata": {},
   "outputs": [],
   "source": [
    "%load_ext autoreload\n",
    "%autoreload 2\n",
    "%matplotlib inline\n",
    "\n",
    "import pandas as pd\n",
    "from datetime import timedelta\n",
    "from dateutil.parser import parse\n",
    "\n",
    "from src.models.bank_model import Bankmodel\n",
    "from src.data.zerocurve import Zerocurve\n",
    "from src.data.interest import Interest\n",
    "import seaborn as sns\n"
   ]
  },
  {
   "cell_type": "code",
   "execution_count": 2,
   "id": "f728be09",
   "metadata": {},
   "outputs": [
    {
     "name": "stderr",
     "output_type": "stream",
     "text": [
      "2023-03-20 13:28:16.747 | INFO     | src.data.dataset:load_data:45 - loading zerocurve data from file.\n",
      "c:\\Users\\M\\miniconda3\\envs\\rlalm\\lib\\site-packages\\pandas\\core\\internals\\blocks.py:351: RuntimeWarning: invalid value encountered in log1p\n",
      "  result = func(self.values, **kwargs)\n",
      "2023-03-20 13:28:16.962 | INFO     | src.data.dataset:load_data:45 - loading interest data from file.\n"
     ]
    }
   ],
   "source": [
    "# Create data objects\n",
    "zerocurve = Zerocurve()\n",
    "interest = Interest()\n",
    "# Load data from csv file - not directly from ECB\n",
    "zerocurve.load_data()\n",
    "interest.load_data()"
   ]
  },
  {
   "cell_type": "code",
   "execution_count": 3,
   "id": "627f7745",
   "metadata": {},
   "outputs": [],
   "source": [
    "pos_date = parse('28-02-2023')\n",
    "bankmodel = Bankmodel(pos_date)"
   ]
  },
  {
   "cell_type": "code",
   "execution_count": 4,
   "id": "33d011b7",
   "metadata": {},
   "outputs": [
    {
     "data": {
      "text/html": [
       "<div>\n",
       "<style scoped>\n",
       "    .dataframe tbody tr th:only-of-type {\n",
       "        vertical-align: middle;\n",
       "    }\n",
       "\n",
       "    .dataframe tbody tr th {\n",
       "        vertical-align: top;\n",
       "    }\n",
       "\n",
       "    .dataframe thead th {\n",
       "        text-align: right;\n",
       "    }\n",
       "</style>\n",
       "<table border=\"1\" class=\"dataframe\">\n",
       "  <thead>\n",
       "    <tr style=\"text-align: right;\">\n",
       "      <th></th>\n",
       "      <th>period</th>\n",
       "      <th>cashflow</th>\n",
       "      <th>value_dt</th>\n",
       "      <th>type</th>\n",
       "    </tr>\n",
       "  </thead>\n",
       "  <tbody>\n",
       "    <tr>\n",
       "      <th>0</th>\n",
       "      <td>1</td>\n",
       "      <td>-600000</td>\n",
       "      <td>2023-03-01</td>\n",
       "      <td>deposits</td>\n",
       "    </tr>\n",
       "    <tr>\n",
       "      <th>1</th>\n",
       "      <td>2</td>\n",
       "      <td>-400000</td>\n",
       "      <td>2027-08-28</td>\n",
       "      <td>deposits</td>\n",
       "    </tr>\n",
       "  </tbody>\n",
       "</table>\n",
       "</div>"
      ],
      "text/plain": [
       "   period  cashflow   value_dt      type\n",
       "0       1   -600000 2023-03-01  deposits\n",
       "1       2   -400000 2027-08-28  deposits"
      ]
     },
     "execution_count": 4,
     "metadata": {},
     "output_type": "execute_result"
    }
   ],
   "source": [
    "\n",
    "bankmodel.generate_nonmaturing_deposits(principal = 1000000, core = 0.4, maturity = 54)"
   ]
  },
  {
   "cell_type": "code",
   "execution_count": 5,
   "id": "99e2b47a",
   "metadata": {},
   "outputs": [
    {
     "data": {
      "text/html": [
       "<div>\n",
       "<style scoped>\n",
       "    .dataframe tbody tr th:only-of-type {\n",
       "        vertical-align: middle;\n",
       "    }\n",
       "\n",
       "    .dataframe tbody tr th {\n",
       "        vertical-align: top;\n",
       "    }\n",
       "\n",
       "    .dataframe thead th {\n",
       "        text-align: right;\n",
       "    }\n",
       "</style>\n",
       "<table border=\"1\" class=\"dataframe\">\n",
       "  <thead>\n",
       "    <tr style=\"text-align: right;\">\n",
       "      <th></th>\n",
       "      <th>period</th>\n",
       "      <th>cashflow</th>\n",
       "      <th>value_dt</th>\n",
       "      <th>type</th>\n",
       "    </tr>\n",
       "  </thead>\n",
       "  <tbody>\n",
       "    <tr>\n",
       "      <th>0</th>\n",
       "      <td>1</td>\n",
       "      <td>-600000</td>\n",
       "      <td>2023-03-01</td>\n",
       "      <td>deposits</td>\n",
       "    </tr>\n",
       "    <tr>\n",
       "      <th>1</th>\n",
       "      <td>2</td>\n",
       "      <td>-400000</td>\n",
       "      <td>2027-08-28</td>\n",
       "      <td>deposits</td>\n",
       "    </tr>\n",
       "  </tbody>\n",
       "</table>\n",
       "</div>"
      ],
      "text/plain": [
       "   period  cashflow   value_dt      type\n",
       "0       1   -600000 2023-03-01  deposits\n",
       "1       2   -400000 2027-08-28  deposits"
      ]
     },
     "execution_count": 5,
     "metadata": {},
     "output_type": "execute_result"
    }
   ],
   "source": [
    "bankmodel.df_cashflows"
   ]
  },
  {
   "cell_type": "code",
   "execution_count": 6,
   "id": "f35ad3c6",
   "metadata": {},
   "outputs": [],
   "source": [
    "bankmodel.plot_contracts();"
   ]
  },
  {
   "cell_type": "code",
   "execution_count": 7,
   "id": "cad040c1",
   "metadata": {},
   "outputs": [
    {
     "data": {
      "image/png": "[encoded data removed]",
      "text/plain": [
       "<Figure size 1000x600 with 1 Axes>"
      ]
     },
     "metadata": {},
     "output_type": "display_data"
    }
   ],
   "source": [
    "bankmodel.plot_cashflows()"
   ]
  },
  {
   "attachments": {},
   "cell_type": "markdown",
   "id": "04cd9606",
   "metadata": {},
   "source": [
    "### npv calculation\n",
    "\n",
    "$$NPV = {{Cashflow} \\over (1+i)^T}.$$\n",
    "$$DF_0^T = [1+R_{zc}]^{-T})$$\n",
    "where:\n",
    "- $DF_0^T$  = a discount factor with maturity T\n",
    "- $R_{zc}$ = A zero coupon interest rate\n",
    "- $T$ = Maturity of the zero rate, in years (calculated as days/365)"
   ]
  },
  {
   "cell_type": "code",
   "execution_count": 8,
   "id": "c3d4abf3",
   "metadata": {},
   "outputs": [
    {
     "data": {
      "text/plain": [
       "-956202.23"
      ]
     },
     "execution_count": 8,
     "metadata": {},
     "output_type": "execute_result"
    }
   ],
   "source": [
    "bankmodel.calculate_npv(zerocurve)"
   ]
  },
  {
   "cell_type": "code",
   "execution_count": 9,
   "id": "14332a2f",
   "metadata": {},
   "outputs": [
    {
     "name": "stderr",
     "output_type": "stream",
     "text": [
      "2023-03-20 13:28:42.260 | DEBUG    | src.data.zerocurve:step:124 - Stepping in zerocurve 2023-03-01 00:00:00.\n"
     ]
    },
    {
     "data": {
      "text/plain": [
       "29748.099999999977"
      ]
     },
     "execution_count": 9,
     "metadata": {},
     "output_type": "execute_result"
    }
   ],
   "source": [
    "bankmodel.step()\n",
    "zerocurve.step()\n",
    "bankmodel.calculate_npv(zerocurve)\n",
    "df_returns = bankmodel.calculate_risk(zerocurve,200,'Parallel')\n",
    "\n",
    "df_returns"
   ]
  },
  {
   "cell_type": "code",
   "execution_count": 10,
   "id": "332b1fc3",
   "metadata": {},
   "outputs": [
    {
     "name": "stderr",
     "output_type": "stream",
     "text": [
      "2023-03-20 13:28:47.451 | DEBUG    | src.data.zerocurve:step:124 - Stepping in zerocurve 2023-03-02 00:00:00.\n",
      "2023-03-20 13:28:47.488 | DEBUG    | src.data.zerocurve:step:124 - Stepping in zerocurve 2023-03-03 00:00:00.\n",
      "2023-03-20 13:28:47.531 | DEBUG    | src.data.zerocurve:step:124 - Stepping in zerocurve 2023-03-06 00:00:00.\n",
      "2023-03-20 13:28:47.571 | DEBUG    | src.data.zerocurve:step:124 - Stepping in zerocurve 2023-03-07 00:00:00.\n",
      "2023-03-20 13:28:47.612 | DEBUG    | src.data.zerocurve:step:124 - Stepping in zerocurve 2023-03-08 00:00:00.\n",
      "2023-03-20 13:28:47.651 | DEBUG    | src.data.zerocurve:step:124 - Stepping in zerocurve 2023-03-09 00:00:00.\n",
      "2023-03-20 13:28:47.683 | DEBUG    | src.data.zerocurve:step:124 - Stepping in zerocurve 2023-03-10 00:00:00.\n",
      "2023-03-20 13:28:47.718 | DEBUG    | src.data.zerocurve:step:124 - Stepping in zerocurve 2023-03-13 00:00:00.\n",
      "2023-03-20 13:28:47.751 | DEBUG    | src.data.zerocurve:step:124 - Stepping in zerocurve 2023-03-14 00:00:00.\n",
      "2023-03-20 13:28:47.787 | DEBUG    | src.data.zerocurve:step:124 - Stepping in zerocurve 2023-03-15 00:00:00.\n",
      "2023-03-20 13:28:47.823 | DEBUG    | src.data.zerocurve:step:124 - Stepping in zerocurve 2023-03-16 00:00:00.\n",
      "2023-03-20 13:28:47.858 | DEBUG    | src.data.zerocurve:step:124 - Stepping in zerocurve 2023-03-17 00:00:00.\n",
      "2023-03-20 13:28:47.936 | DEBUG    | src.data.zerocurve:step:124 - Stepping in zerocurve 2023-03-20 00:00:00.\n",
      "2023-03-20 13:28:47.975 | DEBUG    | src.data.zerocurve:step:124 - Stepping in zerocurve 2023-03-21 00:00:00.\n",
      "2023-03-20 13:28:48.007 | DEBUG    | src.data.zerocurve:step:124 - Stepping in zerocurve 2023-03-22 00:00:00.\n",
      "2023-03-20 13:28:48.058 | DEBUG    | src.data.zerocurve:step:124 - Stepping in zerocurve 2023-03-23 00:00:00.\n",
      "2023-03-20 13:28:48.098 | DEBUG    | src.data.zerocurve:step:124 - Stepping in zerocurve 2023-03-24 00:00:00.\n",
      "2023-03-20 13:28:48.145 | DEBUG    | src.data.zerocurve:step:124 - Stepping in zerocurve 2023-03-27 00:00:00.\n",
      "2023-03-20 13:28:48.187 | DEBUG    | src.data.zerocurve:step:124 - Stepping in zerocurve 2023-03-28 00:00:00.\n",
      "2023-03-20 13:28:48.219 | DEBUG    | src.data.zerocurve:step:124 - Stepping in zerocurve 2023-03-29 00:00:00.\n",
      "2023-03-20 13:28:48.253 | DEBUG    | src.data.zerocurve:step:124 - Stepping in zerocurve 2023-03-30 00:00:00.\n",
      "2023-03-20 13:28:48.289 | DEBUG    | src.data.zerocurve:step:124 - Stepping in zerocurve 2023-03-31 00:00:00.\n",
      "2023-03-20 13:28:48.323 | DEBUG    | src.data.zerocurve:step:124 - Stepping in zerocurve 2023-04-03 00:00:00.\n",
      "2023-03-20 13:28:48.358 | DEBUG    | src.data.zerocurve:step:124 - Stepping in zerocurve 2023-04-04 00:00:00.\n",
      "2023-03-20 13:28:48.392 | DEBUG    | src.data.zerocurve:step:124 - Stepping in zerocurve 2023-04-05 00:00:00.\n",
      "2023-03-20 13:28:48.431 | DEBUG    | src.data.zerocurve:step:124 - Stepping in zerocurve 2023-04-06 00:00:00.\n",
      "2023-03-20 13:28:48.474 | DEBUG    | src.data.zerocurve:step:124 - Stepping in zerocurve 2023-04-07 00:00:00.\n",
      "2023-03-20 13:28:48.525 | DEBUG    | src.data.zerocurve:step:124 - Stepping in zerocurve 2023-04-10 00:00:00.\n",
      "2023-03-20 13:28:48.560 | DEBUG    | src.data.zerocurve:step:124 - Stepping in zerocurve 2023-04-11 00:00:00.\n",
      "2023-03-20 13:28:48.593 | DEBUG    | src.data.zerocurve:step:124 - Stepping in zerocurve 2023-04-12 00:00:00.\n",
      "2023-03-20 13:28:48.629 | DEBUG    | src.data.zerocurve:step:124 - Stepping in zerocurve 2023-04-13 00:00:00.\n",
      "2023-03-20 13:28:48.672 | DEBUG    | src.data.zerocurve:step:124 - Stepping in zerocurve 2023-04-14 00:00:00.\n",
      "2023-03-20 13:28:48.707 | DEBUG    | src.data.zerocurve:step:124 - Stepping in zerocurve 2023-04-17 00:00:00.\n",
      "2023-03-20 13:28:48.741 | DEBUG    | src.data.zerocurve:step:124 - Stepping in zerocurve 2023-04-18 00:00:00.\n",
      "2023-03-20 13:28:48.775 | DEBUG    | src.data.zerocurve:step:124 - Stepping in zerocurve 2023-04-19 00:00:00.\n",
      "2023-03-20 13:28:48.811 | DEBUG    | src.data.zerocurve:step:124 - Stepping in zerocurve 2023-04-20 00:00:00.\n",
      "2023-03-20 13:28:48.843 | DEBUG    | src.data.zerocurve:step:124 - Stepping in zerocurve 2023-04-21 00:00:00.\n",
      "2023-03-20 13:28:48.879 | DEBUG    | src.data.zerocurve:step:124 - Stepping in zerocurve 2023-04-24 00:00:00.\n",
      "2023-03-20 13:28:48.913 | DEBUG    | src.data.zerocurve:step:124 - Stepping in zerocurve 2023-04-25 00:00:00.\n",
      "2023-03-20 13:28:48.949 | DEBUG    | src.data.zerocurve:step:124 - Stepping in zerocurve 2023-04-26 00:00:00.\n",
      "2023-03-20 13:28:48.983 | DEBUG    | src.data.zerocurve:step:124 - Stepping in zerocurve 2023-04-27 00:00:00.\n",
      "2023-03-20 13:28:49.018 | DEBUG    | src.data.zerocurve:step:124 - Stepping in zerocurve 2023-04-28 00:00:00.\n",
      "2023-03-20 13:28:49.077 | DEBUG    | src.data.zerocurve:step:124 - Stepping in zerocurve 2023-05-01 00:00:00.\n",
      "2023-03-20 13:28:49.107 | DEBUG    | src.data.zerocurve:step:124 - Stepping in zerocurve 2023-05-02 00:00:00.\n",
      "2023-03-20 13:28:49.138 | DEBUG    | src.data.zerocurve:step:124 - Stepping in zerocurve 2023-05-03 00:00:00.\n",
      "2023-03-20 13:28:49.170 | DEBUG    | src.data.zerocurve:step:124 - Stepping in zerocurve 2023-05-04 00:00:00.\n",
      "2023-03-20 13:28:49.203 | DEBUG    | src.data.zerocurve:step:124 - Stepping in zerocurve 2023-05-05 00:00:00.\n",
      "2023-03-20 13:28:49.235 | DEBUG    | src.data.zerocurve:step:124 - Stepping in zerocurve 2023-05-08 00:00:00.\n",
      "2023-03-20 13:28:49.275 | DEBUG    | src.data.zerocurve:step:124 - Stepping in zerocurve 2023-05-09 00:00:00.\n",
      "2023-03-20 13:28:49.307 | DEBUG    | src.data.zerocurve:step:124 - Stepping in zerocurve 2023-05-10 00:00:00.\n",
      "2023-03-20 13:28:49.340 | DEBUG    | src.data.zerocurve:step:124 - Stepping in zerocurve 2023-05-11 00:00:00.\n",
      "2023-03-20 13:28:49.372 | DEBUG    | src.data.zerocurve:step:124 - Stepping in zerocurve 2023-05-12 00:00:00.\n",
      "2023-03-20 13:28:49.405 | DEBUG    | src.data.zerocurve:step:124 - Stepping in zerocurve 2023-05-15 00:00:00.\n",
      "2023-03-20 13:28:49.440 | DEBUG    | src.data.zerocurve:step:124 - Stepping in zerocurve 2023-05-16 00:00:00.\n",
      "2023-03-20 13:28:49.473 | DEBUG    | src.data.zerocurve:step:124 - Stepping in zerocurve 2023-05-17 00:00:00.\n",
      "2023-03-20 13:28:49.506 | DEBUG    | src.data.zerocurve:step:124 - Stepping in zerocurve 2023-05-18 00:00:00.\n",
      "2023-03-20 13:28:49.538 | DEBUG    | src.data.zerocurve:step:124 - Stepping in zerocurve 2023-05-19 00:00:00.\n",
      "2023-03-20 13:28:49.570 | DEBUG    | src.data.zerocurve:step:124 - Stepping in zerocurve 2023-05-22 00:00:00.\n",
      "2023-03-20 13:28:49.603 | DEBUG    | src.data.zerocurve:step:124 - Stepping in zerocurve 2023-05-23 00:00:00.\n",
      "2023-03-20 13:28:49.636 | DEBUG    | src.data.zerocurve:step:124 - Stepping in zerocurve 2023-05-24 00:00:00.\n",
      "2023-03-20 13:28:49.675 | DEBUG    | src.data.zerocurve:step:124 - Stepping in zerocurve 2023-05-25 00:00:00.\n",
      "2023-03-20 13:28:49.705 | DEBUG    | src.data.zerocurve:step:124 - Stepping in zerocurve 2023-05-26 00:00:00.\n",
      "2023-03-20 13:28:49.737 | DEBUG    | src.data.zerocurve:step:124 - Stepping in zerocurve 2023-05-29 00:00:00.\n",
      "2023-03-20 13:28:49.769 | DEBUG    | src.data.zerocurve:step:124 - Stepping in zerocurve 2023-05-30 00:00:00.\n",
      "2023-03-20 13:28:49.801 | DEBUG    | src.data.zerocurve:step:124 - Stepping in zerocurve 2023-05-31 00:00:00.\n",
      "2023-03-20 13:28:49.834 | DEBUG    | src.data.zerocurve:step:124 - Stepping in zerocurve 2023-06-01 00:00:00.\n",
      "2023-03-20 13:28:49.866 | DEBUG    | src.data.zerocurve:step:124 - Stepping in zerocurve 2023-06-02 00:00:00.\n",
      "2023-03-20 13:28:49.901 | DEBUG    | src.data.zerocurve:step:124 - Stepping in zerocurve 2023-06-05 00:00:00.\n",
      "2023-03-20 13:28:49.937 | DEBUG    | src.data.zerocurve:step:124 - Stepping in zerocurve 2023-06-06 00:00:00.\n",
      "2023-03-20 13:28:49.968 | DEBUG    | src.data.zerocurve:step:124 - Stepping in zerocurve 2023-06-07 00:00:00.\n",
      "2023-03-20 13:28:50.002 | DEBUG    | src.data.zerocurve:step:124 - Stepping in zerocurve 2023-06-08 00:00:00.\n",
      "2023-03-20 13:28:50.034 | DEBUG    | src.data.zerocurve:step:124 - Stepping in zerocurve 2023-06-09 00:00:00.\n",
      "2023-03-20 13:28:50.097 | DEBUG    | src.data.zerocurve:step:124 - Stepping in zerocurve 2023-06-12 00:00:00.\n",
      "2023-03-20 13:28:50.141 | DEBUG    | src.data.zerocurve:step:124 - Stepping in zerocurve 2023-06-13 00:00:00.\n",
      "2023-03-20 13:28:50.172 | DEBUG    | src.data.zerocurve:step:124 - Stepping in zerocurve 2023-06-14 00:00:00.\n",
      "2023-03-20 13:28:50.203 | DEBUG    | src.data.zerocurve:step:124 - Stepping in zerocurve 2023-06-15 00:00:00.\n",
      "2023-03-20 13:28:50.235 | DEBUG    | src.data.zerocurve:step:124 - Stepping in zerocurve 2023-06-16 00:00:00.\n",
      "2023-03-20 13:28:50.269 | DEBUG    | src.data.zerocurve:step:124 - Stepping in zerocurve 2023-06-19 00:00:00.\n",
      "2023-03-20 13:28:50.303 | DEBUG    | src.data.zerocurve:step:124 - Stepping in zerocurve 2023-06-20 00:00:00.\n",
      "2023-03-20 13:28:50.337 | DEBUG    | src.data.zerocurve:step:124 - Stepping in zerocurve 2023-06-21 00:00:00.\n",
      "2023-03-20 13:28:50.369 | DEBUG    | src.data.zerocurve:step:124 - Stepping in zerocurve 2023-06-22 00:00:00.\n",
      "2023-03-20 13:28:50.400 | DEBUG    | src.data.zerocurve:step:124 - Stepping in zerocurve 2023-06-23 00:00:00.\n",
      "2023-03-20 13:28:50.434 | DEBUG    | src.data.zerocurve:step:124 - Stepping in zerocurve 2023-06-26 00:00:00.\n",
      "2023-03-20 13:28:50.468 | DEBUG    | src.data.zerocurve:step:124 - Stepping in zerocurve 2023-06-27 00:00:00.\n",
      "2023-03-20 13:28:50.501 | DEBUG    | src.data.zerocurve:step:124 - Stepping in zerocurve 2023-06-28 00:00:00.\n",
      "2023-03-20 13:28:50.533 | DEBUG    | src.data.zerocurve:step:124 - Stepping in zerocurve 2023-06-29 00:00:00.\n",
      "2023-03-20 13:28:50.564 | DEBUG    | src.data.zerocurve:step:124 - Stepping in zerocurve 2023-06-30 00:00:00.\n",
      "2023-03-20 13:28:50.596 | DEBUG    | src.data.zerocurve:step:124 - Stepping in zerocurve 2023-07-03 00:00:00.\n",
      "2023-03-20 13:28:50.628 | DEBUG    | src.data.zerocurve:step:124 - Stepping in zerocurve 2023-07-04 00:00:00.\n",
      "2023-03-20 13:28:50.660 | DEBUG    | src.data.zerocurve:step:124 - Stepping in zerocurve 2023-07-05 00:00:00.\n",
      "2023-03-20 13:28:50.692 | DEBUG    | src.data.zerocurve:step:124 - Stepping in zerocurve 2023-07-06 00:00:00.\n",
      "2023-03-20 13:28:50.723 | DEBUG    | src.data.zerocurve:step:124 - Stepping in zerocurve 2023-07-07 00:00:00.\n",
      "2023-03-20 13:28:50.759 | DEBUG    | src.data.zerocurve:step:124 - Stepping in zerocurve 2023-07-10 00:00:00.\n",
      "2023-03-20 13:28:50.791 | DEBUG    | src.data.zerocurve:step:124 - Stepping in zerocurve 2023-07-11 00:00:00.\n",
      "2023-03-20 13:28:50.823 | DEBUG    | src.data.zerocurve:step:124 - Stepping in zerocurve 2023-07-12 00:00:00.\n",
      "2023-03-20 13:28:50.855 | DEBUG    | src.data.zerocurve:step:124 - Stepping in zerocurve 2023-07-13 00:00:00.\n",
      "2023-03-20 13:28:50.888 | DEBUG    | src.data.zerocurve:step:124 - Stepping in zerocurve 2023-07-14 00:00:00.\n",
      "2023-03-20 13:28:50.927 | DEBUG    | src.data.zerocurve:step:124 - Stepping in zerocurve 2023-07-17 00:00:00.\n",
      "2023-03-20 13:28:50.969 | DEBUG    | src.data.zerocurve:step:124 - Stepping in zerocurve 2023-07-18 00:00:00.\n",
      "2023-03-20 13:28:51.007 | DEBUG    | src.data.zerocurve:step:124 - Stepping in zerocurve 2023-07-19 00:00:00.\n"
     ]
    },
    {
     "data": {
      "text/plain": [
       "<AxesSubplot:>"
      ]
     },
     "execution_count": 10,
     "metadata": {},
     "output_type": "execute_result"
    },
    {
     "data": {
      "image/png": "[encoded data removed]",
      "text/plain": [
       "<Figure size 1000x600 with 1 Axes>"
      ]
     },
     "metadata": {},
     "output_type": "display_data"
    }
   ],
   "source": [
    "# run an episode of 100 steps\n",
    "\n",
    "risk = []\n",
    "for i in range(100):\n",
    "    bankmodel.step()\n",
    "    zerocurve.step()\n",
    "    risk.append(bankmodel.calculate_risk(zerocurve,200,'Parallel'))    \n",
    "sns.lineplot(risk)"
   ]
  },
  {
   "cell_type": "code",
   "execution_count": 11,
   "id": "42889f17",
   "metadata": {},
   "outputs": [
    {
     "name": "stderr",
     "output_type": "stream",
     "text": [
      "c:\\Users\\M\\miniconda3\\envs\\rlalm\\lib\\site-packages\\pandas\\core\\internals\\blocks.py:351: RuntimeWarning: invalid value encountered in log1p\n",
      "  result = func(self.values, **kwargs)\n"
     ]
    }
   ],
   "source": [
    "bankmodel.reset()\n",
    "zerocurve.reset()"
   ]
  },
  {
   "cell_type": "code",
   "execution_count": 12,
   "id": "949ef72d",
   "metadata": {},
   "outputs": [
    {
     "data": {
      "text/plain": [
       "-944980.72"
      ]
     },
     "execution_count": 12,
     "metadata": {},
     "output_type": "execute_result"
    }
   ],
   "source": [
    "bankmodel.calculate_npv(zerocurve)"
   ]
  },
  {
   "cell_type": "markdown",
   "id": "4659552a",
   "metadata": {},
   "source": [
    "Non Maturity Deposits"
   ]
  },
  {
   "cell_type": "markdown",
   "id": "beea847c",
   "metadata": {},
   "source": [
    "#### Core vs Non Core balances\n",
    "For saving deposits a cap on the average maturity of the core deposits is set at 4.5 years. \n",
    "In general 70% - 90% of the deposits can be classied as core capital. (See guidelines BCBS)"
   ]
  },
  {
   "cell_type": "code",
   "execution_count": null,
   "id": "c87779ce",
   "metadata": {},
   "outputs": [],
   "source": [
    "\n",
    "\n"
   ]
  }
 ],
 "metadata": {
  "kernelspec": {
   "display_name": "rlalm",
   "language": "python",
   "name": "rlalm"
  },
  "language_info": {
   "codemirror_mode": {
    "name": "ipython",
    "version": 3
   },
   "file_extension": ".py",
   "mimetype": "text/x-python",
   "name": "python",
   "nbconvert_exporter": "python",
   "pygments_lexer": "ipython3",
   "version": "3.10.9"
  }
 },
 "nbformat": 4,
 "nbformat_minor": 5
}
