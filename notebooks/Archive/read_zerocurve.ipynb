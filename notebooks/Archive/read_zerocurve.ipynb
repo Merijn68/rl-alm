{
 "cells": [
  {
   "cell_type": "code",
   "execution_count": 48,
   "metadata": {},
   "outputs": [
    {
     "name": "stdout",
     "output_type": "stream",
     "text": [
      "Project root: f:\\OneDrive\\Documents\\GitHub\\rl-alm\n"
     ]
    }
   ],
   "source": [
    " \n",
    "import pandas as pd\n",
    "import os, sys\n",
    "from pathlib import Path\n",
    "\n",
    "# Find the root directory by traversing up the directory tree\n",
    "def find_project_root(current_path):\n",
    "    if os.path.exists(os.path.join(current_path, \"README.md\")):\n",
    "        return current_path\n",
    "    parent_path = os.path.dirname(current_path)\n",
    "    if parent_path == current_path:\n",
    "        raise ValueError(\"Project root not found.\")\n",
    "    return find_project_root(parent_path)\n",
    "\n",
    "\n",
    "current_dir = os.getcwd()\n",
    "project_root = find_project_root(current_dir)\n",
    "sys.path.append(str(project_root))\n",
    "print(f\"Project root: {project_root}\")\n",
    "from src.data.definitions import DATA_RAW"
   ]
  },
  {
   "cell_type": "code",
   "execution_count": 59,
   "metadata": {},
   "outputs": [],
   "source": [
    "df = pd.read_csv(Path(DATA_RAW, \"zerocurve_download.csv\"), parse_dates=['period'],dayfirst=True, skiprows=5)\n",
    "df = pd.melt(df,id_vars = ['period'])\n",
    "df.columns = ['rate_dt','tenor','rate']\n",
    "df[\"rate_dt\"] = pd.to_datetime(df[\"rate_dt\"])\n",
    "df['tenor'] = df['tenor'].astype(int)\n",
    "df[\"value_dt\"] = df[\"rate_dt\"] + df['tenor'].astype('timedelta64[D]')"
   ]
  },
  {
   "cell_type": "code",
   "execution_count": 63,
   "metadata": {},
   "outputs": [],
   "source": [
    "df.to_csv(Path(DATA_RAW, \"zerocurve.csv\"), index=False)"
   ]
  }
 ],
 "metadata": {
  "kernelspec": {
   "display_name": "Python 3",
   "language": "python",
   "name": "python3"
  },
  "language_info": {
   "codemirror_mode": {
    "name": "ipython",
    "version": 3
   },
   "file_extension": ".py",
   "mimetype": "text/x-python",
   "name": "python",
   "nbconvert_exporter": "python",
   "pygments_lexer": "ipython3",
   "version": "3.10.12"
  }
 },
 "nbformat": 4,
 "nbformat_minor": 2
}
